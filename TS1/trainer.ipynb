{
 "cells": [
  {
   "cell_type": "code",
   "execution_count": 1,
   "metadata": {},
   "outputs": [],
   "source": [
    "import torch\n",
    "import torch.nn as nn\n",
    "import torch.optim as optim\n",
    "from torchsummary import summary\n",
    "from torch.utils.data import DataLoader\n",
    "from torchvision import datasets\n",
    "import numpy as np\n",
    "import random\n",
    "from model_structure import get_preprocessing_transforms,BCNN, train_model, evaluate_model, get_resnet_model, get_squ_model"
   ]
  },
  {
   "cell_type": "code",
   "execution_count": null,
   "metadata": {},
   "outputs": [],
   "source": [
    "seed = 441\n",
    "torch.manual_seed(seed)\n",
    "torch.cuda.manual_seed(seed)\n",
    "torch.cuda.manual_seed_all(seed)\n",
    "np.random.seed(seed)\n",
    "random.seed(seed)\n",
    "torch.backends.cudnn.deterministic = True\n",
    "torch.backends.cudnn.benchmark = False"
   ]
  },
  {
   "cell_type": "code",
   "execution_count": null,
   "metadata": {},
   "outputs": [],
   "source": [
    "MODEL_NUMBER = 2\n",
    "BATCH_SIZE = 32\n",
    "LEARNING_RATE = 0.001\n",
    "NUM_EPOCHS = 10\n",
    "INPUT_SIZE = 224\n",
    "DEVICE = torch.device('cuda' if torch.cuda.is_available() else 'cpu')"
   ]
  },
  {
   "cell_type": "code",
   "execution_count": 5,
   "metadata": {},
   "outputs": [],
   "source": [
    "# Get transforms\n",
    "train_transform, val_transform = get_preprocessing_transforms(INPUT_SIZE)"
   ]
  },
  {
   "cell_type": "code",
   "execution_count": null,
   "metadata": {},
   "outputs": [],
   "source": [
    "# Set data set directory\n",
    "train_dir = f'data4model_{MODEL_NUMBER}/train/'\n",
    "val_dir = f'data4model_{MODEL_NUMBER}/test/'"
   ]
  },
  {
   "cell_type": "code",
   "execution_count": null,
   "metadata": {},
   "outputs": [],
   "source": [
    "# Create datasets\n",
    "train_dataset = datasets.ImageFolder(\n",
    "        root=train_dir,\n",
    "        transform=train_transform\n",
    "    )\n",
    "    \n",
    "val_dataset = datasets.ImageFolder(\n",
    "        root=val_dir,\n",
    "        transform=val_transform\n",
    "    )"
   ]
  },
  {
   "cell_type": "code",
   "execution_count": 8,
   "metadata": {},
   "outputs": [],
   "source": [
    "# Create data loaders\n",
    "train_loader = DataLoader(\n",
    "    train_dataset, \n",
    "    batch_size=BATCH_SIZE, \n",
    "    shuffle=True, \n",
    "    num_workers=4,\n",
    "    pin_memory=True\n",
    ")\n",
    "\n",
    "val_loader = DataLoader(\n",
    "    val_dataset, \n",
    "    batch_size=BATCH_SIZE, \n",
    "    shuffle=False, \n",
    "    num_workers=4,\n",
    "    pin_memory=True\n",
    ")"
   ]
  },
  {
   "cell_type": "code",
   "execution_count": null,
   "metadata": {},
   "outputs": [
    {
     "name": "stderr",
     "output_type": "stream",
     "text": [
      "C:\\Users\\hskay\\AppData\\Local\\Packages\\PythonSoftwareFoundation.Python.3.11_qbz5n2kfra8p0\\LocalCache\\local-packages\\Python311\\site-packages\\torchvision\\models\\_utils.py:208: UserWarning: The parameter 'pretrained' is deprecated since 0.13 and may be removed in the future, please use 'weights' instead.\n",
      "  warnings.warn(\n",
      "C:\\Users\\hskay\\AppData\\Local\\Packages\\PythonSoftwareFoundation.Python.3.11_qbz5n2kfra8p0\\LocalCache\\local-packages\\Python311\\site-packages\\torchvision\\models\\_utils.py:223: UserWarning: Arguments other than a weight enum or `None` for 'weights' are deprecated since 0.13 and may be removed in the future. The current behavior is equivalent to passing `weights=ResNet18_Weights.IMAGENET1K_V1`. You can also use `weights=ResNet18_Weights.DEFAULT` to get the most up-to-date weights.\n",
      "  warnings.warn(msg)\n"
     ]
    }
   ],
   "source": [
    "model = get_resnet_model(2).to(DEVICE)\n",
    "criterion =  nn.CrossEntropyLoss()\n",
    "optimizer = optim.Adam(model.parameters(), lr=LEARNING_RATE)\n",
    "model.eval()"
   ]
  },
  {
   "cell_type": "code",
   "execution_count": 17,
   "metadata": {},
   "outputs": [
    {
     "name": "stdout",
     "output_type": "stream",
     "text": [
      "----------------------------------------------------------------\n",
      "        Layer (type)               Output Shape         Param #\n",
      "================================================================\n",
      "            Conv2d-1         [-1, 32, 224, 224]             896\n",
      "              ReLU-2         [-1, 32, 224, 224]               0\n",
      "         MaxPool2d-3         [-1, 32, 112, 112]               0\n",
      "         Dropout2d-4         [-1, 32, 112, 112]               0\n",
      "            Conv2d-5         [-1, 64, 112, 112]          18,496\n",
      "              ReLU-6         [-1, 64, 112, 112]               0\n",
      "         MaxPool2d-7           [-1, 64, 56, 56]               0\n",
      "         Dropout2d-8           [-1, 64, 56, 56]               0\n",
      "            Conv2d-9          [-1, 128, 56, 56]          73,856\n",
      "             ReLU-10          [-1, 128, 56, 56]               0\n",
      "        MaxPool2d-11          [-1, 128, 28, 28]               0\n",
      "        Dropout2d-12          [-1, 128, 28, 28]               0\n",
      "          Flatten-13               [-1, 100352]               0\n",
      "           Linear-14                  [-1, 512]      51,380,736\n",
      "             ReLU-15                  [-1, 512]               0\n",
      "          Dropout-16                  [-1, 512]               0\n",
      "           Linear-17                    [-1, 2]           1,026\n",
      "================================================================\n",
      "Total params: 51,475,010\n",
      "Trainable params: 51,475,010\n",
      "Non-trainable params: 0\n",
      "----------------------------------------------------------------\n",
      "Input size (MB): 0.57\n",
      "Forward/backward pass size (MB): 54.37\n",
      "Params size (MB): 196.36\n",
      "Estimated Total Size (MB): 251.31\n",
      "----------------------------------------------------------------\n"
     ]
    }
   ],
   "source": [
    "summary(model, (3, INPUT_SIZE, INPUT_SIZE))"
   ]
  },
  {
   "cell_type": "code",
   "execution_count": null,
   "metadata": {},
   "outputs": [
    {
     "name": "stdout",
     "output_type": "stream",
     "text": [
      "Epoch [1/10]\n",
      "Training Loss: 0.2350, Validation Loss: 0.1546\n",
      "Training Acc: 0.9137, Validation Acc: 0.9350\n",
      "Training F1: 0.9141, Validation F1: 0.9353\n",
      "Epoch [2/10]\n",
      "Training Loss: 0.1437, Validation Loss: 0.2803\n",
      "Training Acc: 0.9477, Validation Acc: 0.8800\n",
      "Training F1: 0.9478, Validation F1: 0.8899\n",
      "Epoch [3/10]\n",
      "Training Loss: 0.1305, Validation Loss: 0.5504\n",
      "Training Acc: 0.9527, Validation Acc: 0.8500\n",
      "Training F1: 0.9529, Validation F1: 0.8235\n",
      "Epoch [4/10]\n",
      "Training Loss: 0.1091, Validation Loss: 0.0992\n",
      "Training Acc: 0.9600, Validation Acc: 0.9650\n",
      "Training F1: 0.9599, Validation F1: 0.9645\n",
      "Epoch [5/10]\n",
      "Training Loss: 0.0967, Validation Loss: 0.4401\n",
      "Training Acc: 0.9653, Validation Acc: 0.8100\n",
      "Training F1: 0.9654, Validation F1: 0.7654\n",
      "Epoch [6/10]\n",
      "Training Loss: 0.0680, Validation Loss: 0.1297\n",
      "Training Acc: 0.9750, Validation Acc: 0.9450\n",
      "Training F1: 0.9750, Validation F1: 0.9453\n",
      "Epoch [7/10]\n",
      "Training Loss: 0.0999, Validation Loss: 0.1375\n",
      "Training Acc: 0.9587, Validation Acc: 0.9450\n",
      "Training F1: 0.9588, Validation F1: 0.9447\n",
      "Epoch [8/10]\n",
      "Training Loss: 0.0754, Validation Loss: 0.1086\n",
      "Training Acc: 0.9707, Validation Acc: 0.9600\n",
      "Training F1: 0.9706, Validation F1: 0.9604\n",
      "Epoch [9/10]\n",
      "Training Loss: 0.0818, Validation Loss: 0.1408\n",
      "Training Acc: 0.9710, Validation Acc: 0.9500\n",
      "Training F1: 0.9709, Validation F1: 0.9510\n",
      "Epoch [10/10]\n",
      "Training Loss: 0.0512, Validation Loss: 0.1793\n",
      "Training Acc: 0.9857, Validation Acc: 0.9400\n",
      "Training F1: 0.9857, Validation F1: 0.9400\n"
     ]
    }
   ],
   "source": [
    "tracker = train_model(model, train_loader, val_loader, criterion, optimizer, NUM_EPOCHS, DEVICE, MODEL_NUMBER)"
   ]
  }
 ],
 "metadata": {
  "kernelspec": {
   "display_name": "Python 3",
   "language": "python",
   "name": "python3"
  },
  "language_info": {
   "codemirror_mode": {
    "name": "ipython",
    "version": 3
   },
   "file_extension": ".py",
   "mimetype": "text/x-python",
   "name": "python",
   "nbconvert_exporter": "python",
   "pygments_lexer": "ipython3",
   "version": "3.11.9"
  }
 },
 "nbformat": 4,
 "nbformat_minor": 2
}
